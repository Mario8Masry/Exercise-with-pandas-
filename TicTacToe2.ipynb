{
  "cells": [
    {
      "cell_type": "markdown",
      "metadata": {
        "id": "view-in-github",
        "colab_type": "text"
      },
      "source": [
        "<a href=\"https://colab.research.google.com/github/Mario8Masry/Exercise-with-pandas-/blob/main/TicTacToe2.ipynb\" target=\"_parent\"><img src=\"https://colab.research.google.com/assets/colab-badge.svg\" alt=\"Open In Colab\"/></a>"
      ]
    },
    {
      "cell_type": "code",
      "execution_count": null,
      "metadata": {
        "cellView": "code",
        "colab": {
          "background_save": true,
          "base_uri": "https://localhost:8080/"
        },
        "id": "MouwBjIIxJhI",
        "outputId": "b069da55-bcb9-40ed-fe2c-1d4875464ec4"
      },
      "outputs": [
        {
          "name": "stdout",
          "output_type": "stream",
          "text": [
            "Welcome to my Tic Tac Toe humble game, You can use the board above to play...\n",
            "Board's index from 1 --> 9 one starts at the north west and ends at the south east...\n",
            "E N J O Y\n",
            "__ | __ | __\n",
            "___________\n",
            "__ | __ | __\n",
            "___________\n",
            "__ | __ | __\n",
            "X | __ | __\n",
            "___________\n",
            "__ | __ | __\n",
            "___________\n",
            "__ | __ | __\n",
            "X | O | __\n",
            "___________\n",
            "__ | __ | __\n",
            "___________\n",
            "__ | __ | __\n",
            "X | X | __\n",
            "___________\n",
            "__ | __ | __\n",
            "___________\n",
            "__ | __ | __\n",
            "X | O | __\n",
            "___________\n",
            "__ | __ | __\n",
            "___________\n",
            "__ | __ | __\n",
            "X | O | __\n",
            "___________\n",
            "X | __ | __\n",
            "___________\n",
            "__ | __ | __\n",
            "Player using X Won !!\n",
            "X | O | __\n",
            "___________\n",
            "X | __ | __\n",
            "___________\n",
            "X | __ | __\n"
          ]
        }
      ],
      "source": [
        "42# @title Default title text\n",
        "board = [\"__\", \"__\", \"__\", \"__\", \"__\", \"__\", \"__\", \"__\", \"__\"]\n",
        "board_raw = [\"__\", \"__\", \"__\", \"__\", \"__\", \"__\", \"__\", \"__\", \"__\"]\n",
        "index = [1, 2, 3, 4, 5, 6, 7, 8, 9]\n",
        "new_game = ['y', 'n', 'yes', 'no']\n",
        "\n",
        "\n",
        "player_mark = \"X\"\n",
        "position = 0\n",
        "game_running = True\n",
        "reset_board()\n",
        "start_game()\n",
        "\n"
      ]
    },
    {
      "cell_type": "code",
      "execution_count": null,
      "metadata": {
        "id": "aVdBu0feGEBc"
      },
      "outputs": [],
      "source": [
        "def start_game():\n",
        "  print(\"Welcome to my Tic Tac Toe humble game, You can use the board above to play...\")\n",
        "  print(\"Board's index from 1 --> 9 one starts at the north west and ends at the south east...\")\n",
        "  print(\"E N J O Y\")\n",
        "  while game_running:\n",
        "        show_board(board)\n",
        "        player_input()\n",
        "        check_win(board)\n",
        "        check_tie(board)\n",
        "        if game_running == False:\n",
        "          break\n",
        "  switch_player()\n",
        "  show_board(board)\n",
        "  replay()\n"
      ]
    },
    {
      "cell_type": "code",
      "execution_count": null,
      "metadata": {
        "id": "AQQnWhe2xaxZ"
      },
      "outputs": [],
      "source": [
        "#printing game board\n",
        "def show_board(board):\n",
        "  print(board[0] + \" | \" + board[1] + \" | \" + board[2])\n",
        "  print(\"___________\")\n",
        "  print(board[3] + \" | \" + board[4] + \" | \" + board[5])\n",
        "  print(\"___________\")\n",
        "  print(board[6] + \" | \" + board[7] + \" | \" + board[8])\n",
        "\n",
        "#  for row in list:\n",
        "#    print(row)\n",
        "\n"
      ]
    },
    {
      "cell_type": "code",
      "execution_count": null,
      "metadata": {
        "id": "i_rfhnKYgAb3"
      },
      "outputs": [],
      "source": [
        "def check_win(board):\n",
        "  #checking rows\n",
        "  for i in range(3):\n",
        "    if board[i*3] == board[i*3+1] == board[i*3+2] and board[i*3] != \"__\":\n",
        "      print(f\"Player using {board[i*3]} Won !!\")\n",
        "      return True\n",
        "   #   game_running = False\n",
        "\n",
        "       #checking column\n",
        "  for i in range(3):\n",
        "    if board[i] == board[i + 3] == board[i + 6] and board[i] != \"__\":\n",
        "      print(f\"Player using {board[i]} Won !!\")\n",
        "      return True\n",
        "    #  game_running = False\n",
        "  #checking diagonals\n",
        "    if board[0] == board[4] == board[8] and board[0] != \"__\":\n",
        "        print(f\"Player using {board[0]} Won !!\")\n",
        "        return True\n",
        "    if board[2] == board[4] == board[6] and board[2] != \"__\":\n",
        "        print(f\"Player using {board[2]} Won !!\")\n",
        "        return True\n",
        "      #  game_running = False\n",
        "\n",
        "\n",
        "        game_running = False\n",
        "        return False"
      ]
    },
    {
      "cell_type": "code",
      "execution_count": null,
      "metadata": {
        "id": "tiaxY_Apx52Z"
      },
      "outputs": [],
      "source": [
        "from logging import exception\n",
        "\n",
        "#choose sympol\n",
        "def player_input():\n",
        "  global player_mark\n",
        "  try:\n",
        "      player_mark = (input(\"Enter Your sympol : \")).upper()\n",
        "      if player_mark != \"X\" and player_mark != \"O\":\n",
        "        player_mark = \"__\"\n",
        "        raise ValueError\n",
        "      else:\n",
        "        place_input()\n",
        "  except ValueError:\n",
        "    print(\"Unvalid sympol\")\n",
        "\n",
        "#inplace X or O\n",
        "def place_input():\n",
        "  global position\n",
        "  try:\n",
        "      position = int(input(\"Choose your position between 1 --> 9 : \"))\n",
        "      if position not in index:\n",
        "          position = None\n",
        "          raise ValueError\n",
        "      else:\n",
        "          position = position\n",
        "  except ValueError:\n",
        "      print(\"Not valid index on board\")\n",
        "  if position is not None:\n",
        "      board[position - 1] = player_mark\n",
        "\n",
        "\n"
      ]
    },
    {
      "cell_type": "code",
      "execution_count": null,
      "metadata": {
        "id": "Wiavalw9YTmO"
      },
      "outputs": [],
      "source": [
        "def reset_board():\n",
        "  global board_raw, board\n",
        "  board = board_raw\n"
      ]
    },
    {
      "cell_type": "code",
      "execution_count": null,
      "metadata": {
        "id": "PElnvQ789y4p"
      },
      "outputs": [],
      "source": []
    },
    {
      "cell_type": "code",
      "execution_count": null,
      "metadata": {
        "id": "ImCC7G2I7MRO"
      },
      "outputs": [],
      "source": [
        "def switch_player():\n",
        "  global player_mark\n",
        "  if player_mark == \"X\":\n",
        "    player_mark = \"O\"\n",
        "  else:\n",
        "    player_mark = \"X\"\n",
        "  player_input()\n",
        "\n",
        "\n",
        "\n",
        "\n"
      ]
    },
    {
      "cell_type": "code",
      "execution_count": null,
      "metadata": {
        "id": "YzhqyBvzBN7D"
      },
      "outputs": [],
      "source": [
        "def replay():\n",
        "  reset_board()\n",
        "  intent = input(\"Do you want to play again : \")\n",
        "  if intent in new_game and game_running == False:\n",
        "    start_game()\n",
        "  else:\n",
        "    print(\"Hope you had fun <3\")\n",
        "\n",
        "\n",
        "\n",
        "\n",
        "\n"
      ]
    },
    {
      "cell_type": "code",
      "execution_count": null,
      "metadata": {
        "id": "YyuUoS_4hM-k"
      },
      "outputs": [],
      "source": [
        "def check_tie(board):\n",
        "  if \"__\" not in board:\n",
        "    show_board(board)\n",
        "    print(\"It's a draw\")\n",
        "    game_running = False\n",
        "  return True"
      ]
    }
  ],
  "metadata": {
    "colab": {
      "provenance": [],
      "authorship_tag": "ABX9TyMGT+crwBcFM/trttoyw11C",
      "include_colab_link": true
    },
    "kernelspec": {
      "display_name": "Python 3",
      "name": "python3"
    },
    "language_info": {
      "name": "python"
    }
  },
  "nbformat": 4,
  "nbformat_minor": 0
}